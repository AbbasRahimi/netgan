{
 "cells": [
  {
   "cell_type": "code",
   "execution_count": 1,
   "metadata": {},
   "outputs": [
    {
     "name": "stdout",
     "output_type": "stream",
     "text": [
      "WARNING:tensorflow:From /home/danielgonzalez/.local/lib/python3.6/site-packages/tensorflow_core/python/compat/v2_compat.py:88: disable_resource_variables (from tensorflow.python.ops.variable_scope) is deprecated and will be removed in a future version.\n",
      "Instructions for updating:\n",
      "non-resource variables are not supported in the long term\n"
     ]
    }
   ],
   "source": [
    "from netgan.netgan import *\n",
    "#import tensorflow as tf\n",
    "import tensorflow.compat.v1 as tf\n",
    "tf.disable_v2_behavior()\n",
    "from netgan import utils\n",
    "import scipy.sparse as sp\n",
    "import numpy as np\n",
    "from matplotlib import pyplot as plt\n",
    "from sklearn.metrics import roc_auc_score, average_precision_score\n",
    "import time\n",
    "\n",
    "%matplotlib inline"
   ]
  },
  {
   "cell_type": "markdown",
   "metadata": {},
   "source": [
    "#### Load the data"
   ]
  },
  {
   "cell_type": "code",
   "execution_count": 2,
   "metadata": {},
   "outputs": [
    {
     "name": "stdout",
     "output_type": "stream",
     "text": [
      "Selecting 1 largest connected components\n"
     ]
    }
   ],
   "source": [
    "_A_obs, _X_obs, _z_obs = utils.load_npz('data/cora_ml.npz')\n",
    "_A_obs = _A_obs + _A_obs.T\n",
    "_A_obs[_A_obs > 1] = 1\n",
    "lcc = utils.largest_connected_components(_A_obs)\n",
    "_A_obs = _A_obs[lcc,:][:,lcc]\n",
    "_N = _A_obs.shape[0]"
   ]
  },
  {
   "cell_type": "code",
   "execution_count": 3,
   "metadata": {
    "scrolled": true
   },
   "outputs": [
    {
     "name": "stdout",
     "output_type": "stream",
     "text": [
      "A: <class 'scipy.sparse.csr.csr_matrix'> \n",
      "   (0, 1579)\t1.0\n",
      "  (0, 1581)\t1.0\n",
      "  (0, 2241)\t1.0\n",
      "  (1, 2)\t1.0\n",
      "  (1, 1123)\t1.0\n",
      "  (1, 1185)\t1.0\n",
      "  (1, 1864)\t1.0\n",
      "  (1, 2060)\t1.0\n",
      "  (1, 2170)\t1.0\n",
      "  (1, 2171)\t1.0\n",
      "  (2, 1)\t1.0\n",
      "  (2, 1038)\t1.0\n",
      "  (2, 1060)\t1.0\n",
      "  (2, 1804)\t1.0\n",
      "  (2, 2060)\t1.0\n",
      "  (2, 2306)\t1.0\n",
      "  (2, 2430)\t1.0\n",
      "  (3, 250)\t1.0\n",
      "  (3, 251)\t1.0\n",
      "  (3, 499)\t1.0\n",
      "  (4, 264)\t1.0\n",
      "  (4, 327)\t1.0\n",
      "  (4, 372)\t1.0\n",
      "  (4, 415)\t1.0\n",
      "  (4, 430)\t1.0\n",
      "  :\t:\n",
      "  (2802, 2288)\t1.0\n",
      "  (2802, 2289)\t1.0\n",
      "  (2802, 2293)\t1.0\n",
      "  (2802, 2342)\t1.0\n",
      "  (2802, 2345)\t1.0\n",
      "  (2802, 2351)\t1.0\n",
      "  (2802, 2505)\t1.0\n",
      "  (2802, 2507)\t1.0\n",
      "  (2802, 2782)\t1.0\n",
      "  (2802, 2794)\t1.0\n",
      "  (2803, 521)\t1.0\n",
      "  (2803, 1955)\t1.0\n",
      "  (2804, 1955)\t1.0\n",
      "  (2805, 639)\t1.0\n",
      "  (2805, 727)\t1.0\n",
      "  (2805, 769)\t1.0\n",
      "  (2805, 809)\t1.0\n",
      "  (2806, 851)\t1.0\n",
      "  (2806, 1032)\t1.0\n",
      "  (2807, 639)\t1.0\n",
      "  (2807, 2216)\t1.0\n",
      "  (2808, 198)\t1.0\n",
      "  (2808, 730)\t1.0\n",
      "  (2808, 1787)\t1.0\n",
      "  (2809, 1399)\t1.0\n",
      "X: <class 'scipy.sparse.csr.csr_matrix'> \n",
      "   (0, 1421)\t0.08539067699819766\n",
      "  (0, 1392)\t0.10902651669894156\n",
      "  (0, 2282)\t0.17560430258420198\n",
      "  (0, 2260)\t0.07616555894792287\n",
      "  (0, 1384)\t0.14971900679763014\n",
      "  (0, 1802)\t0.049789128358351135\n",
      "  (0, 1385)\t0.21528448925819174\n",
      "  (0, 860)\t0.09741357778821817\n",
      "  (0, 2438)\t0.054604237036672686\n",
      "  (0, 2164)\t0.10852335748486265\n",
      "  (0, 1511)\t0.058284020085499454\n",
      "  (0, 2268)\t0.09126755537027496\n",
      "  (0, 267)\t0.07166048760467597\n",
      "  (0, 2001)\t0.07927845077204716\n",
      "  (0, 535)\t0.07085772294648299\n",
      "  (0, 1559)\t0.08197311197108535\n",
      "  (0, 2053)\t0.03928315501367883\n",
      "  (0, 1586)\t0.08514158020458311\n",
      "  (0, 1056)\t0.11042608739808746\n",
      "  (0, 127)\t0.09126755537027496\n",
      "  (0, 2263)\t0.08441426454811057\n",
      "  (0, 1896)\t0.031090503664453803\n",
      "  (0, 2025)\t0.047931865692111796\n",
      "  (0, 1674)\t0.04768147372646561\n",
      "  (0, 2775)\t0.0421321936340385\n",
      "  :\t:\n",
      "  (2994, 1160)\t0.07527850775412914\n",
      "  (2994, 368)\t0.09014886066539818\n",
      "  (2994, 1178)\t0.07958419595382475\n",
      "  (2994, 2279)\t0.10175173718733749\n",
      "  (2994, 2207)\t0.10882722425026914\n",
      "  (2994, 1039)\t0.13663158372783413\n",
      "  (2994, 1711)\t0.07493566505563769\n",
      "  (2994, 1780)\t0.12840251194142532\n",
      "  (2994, 1566)\t0.1593215993111364\n",
      "  (2994, 1905)\t0.2720651528937851\n",
      "  (2994, 460)\t0.13270179241160718\n",
      "  (2994, 2086)\t0.148756934599563\n",
      "  (2994, 2573)\t0.1412611856973594\n",
      "  (2994, 1788)\t0.11826994515039184\n",
      "  (2994, 1902)\t0.11263610737200898\n",
      "  (2994, 1563)\t0.0903532199024623\n",
      "  (2994, 2561)\t0.1412611856973594\n",
      "  (2994, 1112)\t0.14275048641791196\n",
      "  (2994, 2327)\t0.11412540809256154\n",
      "  (2994, 1578)\t0.39355067105816777\n",
      "  (2994, 952)\t0.4195572842031084\n",
      "  (2994, 584)\t0.12838920296192896\n",
      "  (2994, 947)\t0.13603257644689254\n",
      "  (2994, 1789)\t0.4522866180761525\n",
      "  (2994, 951)\t0.1460116958613718\n",
      "z: <class 'numpy.ndarray'> \n",
      " [0 1 1 ... 4 6 3]\n"
     ]
    }
   ],
   "source": [
    "print('A:', type(_A_obs), '\\n', _A_obs)\n",
    "print('X:', type(_X_obs), '\\n', _X_obs)\n",
    "print('z:', type(_z_obs), '\\n', _z_obs)"
   ]
  },
  {
   "cell_type": "code",
   "execution_count": 4,
   "metadata": {},
   "outputs": [],
   "source": [
    "val_share = 0.1\n",
    "test_share = 0.05\n",
    "#seed = 481516234"
   ]
  },
  {
   "cell_type": "markdown",
   "metadata": {},
   "source": [
    "#### Separate the edges into train, test, validation"
   ]
  },
  {
   "cell_type": "code",
   "execution_count": 5,
   "metadata": {},
   "outputs": [],
   "source": [
    "train_ones, val_ones, val_zeros, test_ones, test_zeros = utils.train_val_test_split_adjacency(_A_obs, val_share, test_share, undirected=True, connected=True, asserts=True)"
   ]
  },
  {
   "cell_type": "code",
   "execution_count": 6,
   "metadata": {},
   "outputs": [],
   "source": [
    "train_graph = sp.coo_matrix((np.ones(len(train_ones)),(train_ones[:,0], train_ones[:,1]))).tocsr()\n",
    "assert (train_graph.toarray() == train_graph.toarray().T).all()"
   ]
  },
  {
   "cell_type": "code",
   "execution_count": 7,
   "metadata": {
    "scrolled": true
   },
   "outputs": [
    {
     "name": "stdout",
     "output_type": "stream",
     "text": [
      "  (0, 1579)\t1.0\n",
      "  (0, 2241)\t1.0\n",
      "  (1, 2)\t1.0\n",
      "  (1, 1185)\t1.0\n",
      "  (1, 1864)\t1.0\n",
      "  (1, 2060)\t1.0\n",
      "  (1, 2170)\t1.0\n",
      "  (1, 2171)\t1.0\n",
      "  (2, 1)\t1.0\n",
      "  (2, 1038)\t1.0\n",
      "  (2, 1060)\t1.0\n",
      "  (2, 1804)\t1.0\n",
      "  (2, 2060)\t1.0\n",
      "  (2, 2306)\t1.0\n",
      "  (2, 2430)\t1.0\n",
      "  (3, 251)\t1.0\n",
      "  (3, 499)\t1.0\n",
      "  (4, 264)\t1.0\n",
      "  (4, 372)\t1.0\n",
      "  (4, 415)\t1.0\n",
      "  (4, 430)\t1.0\n",
      "  (4, 441)\t1.0\n",
      "  (4, 444)\t1.0\n",
      "  (4, 461)\t1.0\n",
      "  (4, 1662)\t1.0\n",
      "  :\t:\n",
      "  (2802, 2258)\t1.0\n",
      "  (2802, 2288)\t1.0\n",
      "  (2802, 2289)\t1.0\n",
      "  (2802, 2293)\t1.0\n",
      "  (2802, 2342)\t1.0\n",
      "  (2802, 2345)\t1.0\n",
      "  (2802, 2351)\t1.0\n",
      "  (2802, 2507)\t1.0\n",
      "  (2802, 2782)\t1.0\n",
      "  (2802, 2794)\t1.0\n",
      "  (2803, 521)\t1.0\n",
      "  (2803, 1955)\t1.0\n",
      "  (2804, 1955)\t1.0\n",
      "  (2805, 639)\t1.0\n",
      "  (2805, 727)\t1.0\n",
      "  (2805, 769)\t1.0\n",
      "  (2805, 809)\t1.0\n",
      "  (2806, 851)\t1.0\n",
      "  (2806, 1032)\t1.0\n",
      "  (2807, 639)\t1.0\n",
      "  (2807, 2216)\t1.0\n",
      "  (2808, 198)\t1.0\n",
      "  (2808, 730)\t1.0\n",
      "  (2808, 1787)\t1.0\n",
      "  (2809, 1399)\t1.0\n"
     ]
    }
   ],
   "source": [
    "print(train_graph)"
   ]
  },
  {
   "cell_type": "markdown",
   "metadata": {},
   "source": [
    "#### Parameters"
   ]
  },
  {
   "cell_type": "code",
   "execution_count": 8,
   "metadata": {},
   "outputs": [],
   "source": [
    "rw_len = 16\n",
    "batch_size = 128"
   ]
  },
  {
   "cell_type": "code",
   "execution_count": 9,
   "metadata": {},
   "outputs": [],
   "source": [
    "walker = utils.RandomWalker(train_graph, rw_len, p=1, q=1, batch_size=batch_size)"
   ]
  },
  {
   "cell_type": "markdown",
   "metadata": {},
   "source": [
    "#### An example random walk"
   ]
  },
  {
   "cell_type": "code",
   "execution_count": 10,
   "metadata": {
    "scrolled": false
   },
   "outputs": [
    {
     "data": {
      "text/plain": [
       "array([[  39,   83, 1265, ...,  578,   86, 1421],\n",
       "       [2292, 2259,  986, ...,  214,  359,  214],\n",
       "       [ 481,  413,  453, ...,  441,  378, 2458],\n",
       "       ...,\n",
       "       [ 368, 1435,  290, ..., 1787,  198, 2808],\n",
       "       [ 852,  939, 2240, ...,  797,  745,  796],\n",
       "       [ 733, 2011,  733, ..., 1787,  160,  234]])"
      ]
     },
     "execution_count": 10,
     "metadata": {},
     "output_type": "execute_result"
    }
   ],
   "source": [
    "walker.walk().__next__()"
   ]
  },
  {
   "cell_type": "markdown",
   "metadata": {},
   "source": [
    "#### Create our NetGAN model"
   ]
  },
  {
   "cell_type": "code",
   "execution_count": 11,
   "metadata": {
    "scrolled": false
   },
   "outputs": [
    {
     "name": "stdout",
     "output_type": "stream",
     "text": [
      "WARNING:tensorflow:From /home/danielgonzalez/repos/infinity-mirror-gnn/netgan/netgan/netgan.py:264: BasicLSTMCell.__init__ (from tensorflow.python.ops.rnn_cell_impl) is deprecated and will be removed in a future version.\n",
      "Instructions for updating:\n",
      "This class is equivalent as tf.keras.layers.LSTMCell, and will be replaced by that in Tensorflow 2.0.\n",
      "WARNING:tensorflow:From /home/danielgonzalez/repos/infinity-mirror-gnn/netgan/netgan/netgan.py:267: MultiRNNCell.__init__ (from tensorflow.python.ops.rnn_cell_impl) is deprecated and will be removed in a future version.\n",
      "Instructions for updating:\n",
      "This class is equivalent as tf.keras.layers.StackedRNNCells, and will be replaced by that in Tensorflow 2.0.\n",
      "WARNING:tensorflow:From /home/danielgonzalez/repos/infinity-mirror-gnn/netgan/netgan/netgan.py:291: dense (from tensorflow.python.layers.core) is deprecated and will be removed in a future version.\n",
      "Instructions for updating:\n",
      "Use keras.layers.Dense instead.\n",
      "WARNING:tensorflow:From /home/danielgonzalez/.local/lib/python3.6/site-packages/tensorflow_core/python/layers/core.py:187: Layer.apply (from tensorflow.python.keras.engine.base_layer) is deprecated and will be removed in a future version.\n",
      "Instructions for updating:\n",
      "Please use `layer.__call__` method instead.\n",
      "WARNING:tensorflow:From /home/danielgonzalez/.local/lib/python3.6/site-packages/tensorflow_core/python/ops/rnn_cell_impl.py:735: Layer.add_variable (from tensorflow.python.keras.engine.base_layer) is deprecated and will be removed in a future version.\n",
      "Instructions for updating:\n",
      "Please use `layer.add_weight` method instead.\n",
      "WARNING:tensorflow:From /home/danielgonzalez/.local/lib/python3.6/site-packages/tensorflow_core/python/ops/rnn_cell_impl.py:739: calling Zeros.__init__ (from tensorflow.python.ops.init_ops) with dtype is deprecated and will be removed in a future version.\n",
      "Instructions for updating:\n",
      "Call initializer instance with the dtype argument instead of passing it to the constructor\n",
      "WARNING:tensorflow:From /home/danielgonzalez/repos/infinity-mirror-gnn/netgan/netgan/netgan.py:150: DatasetV1.make_one_shot_iterator (from tensorflow.python.data.ops.dataset_ops) is deprecated and will be removed in a future version.\n",
      "Instructions for updating:\n",
      "Use `for ... in dataset:` to iterate over a dataset. If using `tf.estimator`, return the `Dataset` object directly from your input function. As a last resort, you can use `tf.compat.v1.data.make_one_shot_iterator(dataset)`.\n",
      "WARNING:tensorflow:From /home/danielgonzalez/repos/infinity-mirror-gnn/netgan/netgan/netgan.py:359: static_rnn (from tensorflow.python.ops.rnn) is deprecated and will be removed in a future version.\n",
      "Instructions for updating:\n",
      "Please use `keras.layers.RNN(cell, unroll=True)`, which is equivalent to this API\n"
     ]
    }
   ],
   "source": [
    "netgan = NetGAN(_N, rw_len, walk_generator= walker.walk, gpu_id=0, use_gumbel=True, disc_iters=3,\n",
    "                W_down_discriminator_size=128, W_down_generator_size=128,\n",
    "                l2_penalty_generator=1e-7, l2_penalty_discriminator=5e-5,\n",
    "                generator_layers=[40], discriminator_layers=[30], temp_start=5, learning_rate=0.0003)"
   ]
  },
  {
   "cell_type": "markdown",
   "metadata": {},
   "source": [
    "#### Define the stopping criterion"
   ]
  },
  {
   "cell_type": "code",
   "execution_count": 12,
   "metadata": {},
   "outputs": [],
   "source": [
    "stopping_criterion = \"val\"\n",
    "\n",
    "assert stopping_criterion in [\"val\", \"eo\"], \"Please set the desired stopping criterion.\"\n",
    "\n",
    "if stopping_criterion == \"val\": # use val criterion for early stopping\n",
    "    stopping = None\n",
    "elif stopping_criterion == \"eo\":  #use eo criterion for early stopping\n",
    "    stopping = 0.5 # set the target edge overlap here"
   ]
  },
  {
   "cell_type": "markdown",
   "metadata": {},
   "source": [
    "#### Train the model"
   ]
  },
  {
   "cell_type": "code",
   "execution_count": 13,
   "metadata": {},
   "outputs": [],
   "source": [
    "eval_every = 2000\n",
    "plot_every = 2000"
   ]
  },
  {
   "cell_type": "code",
   "execution_count": null,
   "metadata": {},
   "outputs": [
    {
     "name": "stdout",
     "output_type": "stream",
     "text": [
      "**** Using VAL criterion for early stopping ****\n",
      "**** Saving snapshots into ../snapshots/model_best_0.ckpt ****\n",
      "**** Initializing... ****\n",
      "**** Done.           ****\n",
      "**** Starting training. ****\n"
     ]
    },
    {
     "data": {
      "image/png": "[encoded data removed]",
      "text/plain": [
       "<Figure size 432x288 with 1 Axes>"
      ]
     },
     "metadata": {
      "needs_background": "light"
     },
     "output_type": "display_data"
    },
    {
     "name": "stdout",
     "output_type": "stream",
     "text": [
      "**** Iter 2000   Val ROC 0.829, AP: 0.838, EO 0.012 ****\n",
      "2500   /200000   training iterations, took 270 seconds so far...\n"
     ]
    }
   ],
   "source": [
    "log_dict = netgan.train(A_orig=_A_obs, val_ones=val_ones, val_zeros=val_zeros, stopping=stopping,\n",
    "                        eval_every=eval_every, plot_every=plot_every, max_patience=20, max_iters=200000)"
   ]
  },
  {
   "cell_type": "code",
   "execution_count": 14,
   "metadata": {},
   "outputs": [
    {
     "data": {
      "text/plain": [
       "dict_keys(['disc_losses', 'gen_losses', 'val_performances', 'edge_overlaps', 'generated_graphs'])"
      ]
     },
     "execution_count": 14,
     "metadata": {},
     "output_type": "execute_result"
    }
   ],
   "source": [
    "log_dict.keys()"
   ]
  },
  {
   "cell_type": "code",
   "execution_count": 15,
   "metadata": {},
   "outputs": [
    {
     "data": {
      "image/png": "[encoded data removed]",
      "text/plain": [
       "<Figure size 432x288 with 1 Axes>"
      ]
     },
     "metadata": {},
     "output_type": "display_data"
    }
   ],
   "source": [
    "plt.plot(np.arange(len(log_dict['val_performances'])) * eval_every, \n",
    "         np.array(log_dict['val_performances'])[:,0], label=\"ROC-AUC\")\n",
    "plt.plot(np.arange(len(log_dict['val_performances'])) * eval_every,\n",
    "         np.array(log_dict['val_performances'])[:,1], label=\"Avg. Prec.\")\n",
    "\n",
    "plt.title(\"Validation performance during training\")\n",
    "plt.legend()\n",
    "plt.show()"
   ]
  },
  {
   "cell_type": "code",
   "execution_count": 16,
   "metadata": {},
   "outputs": [
    {
     "data": {
      "image/png": "[encoded data removed]",
      "text/plain": [
       "<Figure size 432x288 with 1 Axes>"
      ]
     },
     "metadata": {},
     "output_type": "display_data"
    }
   ],
   "source": [
    "plt.plot(np.array(log_dict['edge_overlaps'])/_A_obs.sum())\n",
    "plt.title(\"Edge overlap during training\")\n",
    "plt.show()"
   ]
  },
  {
   "cell_type": "markdown",
   "metadata": {},
   "source": [
    "#### Generate random walks on the trained model"
   ]
  },
  {
   "cell_type": "code",
   "execution_count": 17,
   "metadata": {},
   "outputs": [],
   "source": [
    "sample_many = netgan.generate_discrete(10000, reuse=True)"
   ]
  },
  {
   "cell_type": "code",
   "execution_count": 18,
   "metadata": {},
   "outputs": [],
   "source": [
    "samples = []"
   ]
  },
  {
   "cell_type": "code",
   "execution_count": 31,
   "metadata": {},
   "outputs": [
    {
     "name": "stdout",
     "output_type": "stream",
     "text": [
      "499\n",
      "999\n",
      "1499\n",
      "1999\n",
      "2499\n",
      "2999\n",
      "3499\n",
      "3999\n",
      "4499\n",
      "4999\n",
      "5499\n",
      "5999\n"
     ]
    }
   ],
   "source": [
    "for _ in range(6000):\n",
    "    if (_+1) % 500 == 0:\n",
    "        print(_)\n",
    "    samples.append(sample_many.eval({netgan.tau: 0.5}))"
   ]
  },
  {
   "cell_type": "markdown",
   "metadata": {},
   "source": [
    "#### Assemble score matrix from the random walks"
   ]
  },
  {
   "cell_type": "code",
   "execution_count": 32,
   "metadata": {},
   "outputs": [],
   "source": [
    "rws = np.array(samples).reshape([-1, rw_len])\n",
    "scores_matrix = utils.score_matrix_from_random_walks(rws, _N).tocsr()"
   ]
  },
  {
   "cell_type": "markdown",
   "metadata": {},
   "source": [
    "#### Evaluate generalization via link prediction"
   ]
  },
  {
   "cell_type": "code",
   "execution_count": 33,
   "metadata": {},
   "outputs": [],
   "source": [
    "test_labels = np.concatenate((np.ones(len(test_ones)), np.zeros(len(test_zeros))))\n",
    "test_scores = np.concatenate((scores_matrix[tuple(test_ones.T)].A1, scores_matrix[tuple(test_zeros.T)].A1))"
   ]
  },
  {
   "cell_type": "code",
   "execution_count": 37,
   "metadata": {},
   "outputs": [
    {
     "data": {
      "text/plain": [
       "0.9485468750000001"
      ]
     },
     "execution_count": 37,
     "metadata": {},
     "output_type": "execute_result"
    }
   ],
   "source": [
    "roc_auc_score(test_labels, test_scores)"
   ]
  },
  {
   "cell_type": "code",
   "execution_count": 38,
   "metadata": {},
   "outputs": [
    {
     "data": {
      "text/plain": [
       "0.9563187636554668"
      ]
     },
     "execution_count": 38,
     "metadata": {},
     "output_type": "execute_result"
    }
   ],
   "source": [
    "average_precision_score(test_labels, test_scores)"
   ]
  }
 ],
 "metadata": {
  "kernelspec": {
   "display_name": "Python 3",
   "language": "python",
   "name": "python3"
  },
  "language_info": {
   "codemirror_mode": {
    "name": "ipython",
    "version": 3
   },
   "file_extension": ".py",
   "mimetype": "text/x-python",
   "name": "python",
   "nbconvert_exporter": "python",
   "pygments_lexer": "ipython3",
   "version": "3.6.10"
  }
 },
 "nbformat": 4,
 "nbformat_minor": 2
}
